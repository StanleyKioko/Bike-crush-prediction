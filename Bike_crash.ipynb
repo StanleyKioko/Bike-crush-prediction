{
 "cells": [
  {
   "cell_type": "markdown",
   "id": "4dc218a3",
   "metadata": {},
   "source": [
    "# Problem:"
   ]
  },
  {
   "cell_type": "markdown",
   "id": "2daa5860",
   "metadata": {},
   "source": [
    "\n",
    "The city of Austin has heard many complaints from cyclists that the city isn't doing enough to protect them from motor vehicles. To confirm these complaints, the city has compiled data of cyclists related incidents and want you to review these findings to see if the data confirms this. Pick 6 independent variables and explain why you choose those."
   ]
  },
  {
   "cell_type": "code",
   "execution_count": 15,
   "id": "0510578d",
   "metadata": {},
   "outputs": [],
   "source": [
    "import pandas as pd"
   ]
  },
  {
   "cell_type": "code",
   "execution_count": 16,
   "id": "841a8f29",
   "metadata": {},
   "outputs": [],
   "source": [
    "df = pd.read_csv('bike_crash (1) (1).csv')"
   ]
  },
  {
   "cell_type": "code",
   "execution_count": 17,
   "id": "62f47614",
   "metadata": {},
   "outputs": [
    {
     "data": {
      "text/html": [
       "<div>\n",
       "<style scoped>\n",
       "    .dataframe tbody tr th:only-of-type {\n",
       "        vertical-align: middle;\n",
       "    }\n",
       "\n",
       "    .dataframe tbody tr th {\n",
       "        vertical-align: top;\n",
       "    }\n",
       "\n",
       "    .dataframe thead th {\n",
       "        text-align: right;\n",
       "    }\n",
       "</style>\n",
       "<table border=\"1\" class=\"dataframe\">\n",
       "  <thead>\n",
       "    <tr style=\"text-align: right;\">\n",
       "      <th></th>\n",
       "      <th>$1000 Damage to Any One Person's Property</th>\n",
       "      <th>Active School Zone Flag</th>\n",
       "      <th>At Intersection Flag</th>\n",
       "      <th>Average Daily Traffic Amount</th>\n",
       "      <th>Construction Zone Flag</th>\n",
       "      <th>Crash Severity</th>\n",
       "      <th>Crash Time</th>\n",
       "      <th>Crash Total Injury Count</th>\n",
       "      <th>Crash Year</th>\n",
       "      <th>Day of Week</th>\n",
       "      <th>Highway System</th>\n",
       "      <th>Intersection Related</th>\n",
       "      <th>Light Condition</th>\n",
       "      <th>Road Class</th>\n",
       "      <th>Roadway Part</th>\n",
       "      <th>Speed Limit</th>\n",
       "      <th>Surface Condition</th>\n",
       "      <th>Traffic Control Type</th>\n",
       "      <th>Weather Condition</th>\n",
       "      <th>Person Helmet</th>\n",
       "    </tr>\n",
       "  </thead>\n",
       "  <tbody>\n",
       "    <tr>\n",
       "      <th>0</th>\n",
       "      <td>No</td>\n",
       "      <td>No</td>\n",
       "      <td>False</td>\n",
       "      <td>15262</td>\n",
       "      <td>No</td>\n",
       "      <td>Incapacitating Injury</td>\n",
       "      <td>239</td>\n",
       "      <td>1</td>\n",
       "      <td>2010</td>\n",
       "      <td>Friday</td>\n",
       "      <td>Farm To Market</td>\n",
       "      <td>Non Intersection</td>\n",
       "      <td>Dark, Lighted</td>\n",
       "      <td>Farm To Market</td>\n",
       "      <td>Main/Proper Lane</td>\n",
       "      <td>45</td>\n",
       "      <td>Dry</td>\n",
       "      <td>Marked Lanes</td>\n",
       "      <td>Clear</td>\n",
       "      <td>Worn, Damaged</td>\n",
       "    </tr>\n",
       "    <tr>\n",
       "      <th>1</th>\n",
       "      <td>No</td>\n",
       "      <td>No</td>\n",
       "      <td>False</td>\n",
       "      <td>No Data</td>\n",
       "      <td>No</td>\n",
       "      <td>Non-Incapacitating Injury</td>\n",
       "      <td>310</td>\n",
       "      <td>2</td>\n",
       "      <td>2010</td>\n",
       "      <td>Friday</td>\n",
       "      <td>No Data</td>\n",
       "      <td>Non Intersection</td>\n",
       "      <td>Dark, Lighted</td>\n",
       "      <td>City Street</td>\n",
       "      <td>Main/Proper Lane</td>\n",
       "      <td>35</td>\n",
       "      <td>Dry</td>\n",
       "      <td>Center Stripe/Divider</td>\n",
       "      <td>Clear</td>\n",
       "      <td>Not Worn</td>\n",
       "    </tr>\n",
       "    <tr>\n",
       "      <th>2</th>\n",
       "      <td>No</td>\n",
       "      <td>No</td>\n",
       "      <td>False</td>\n",
       "      <td>No Data</td>\n",
       "      <td>No</td>\n",
       "      <td>Non-Incapacitating Injury</td>\n",
       "      <td>310</td>\n",
       "      <td>2</td>\n",
       "      <td>2010</td>\n",
       "      <td>Friday</td>\n",
       "      <td>No Data</td>\n",
       "      <td>Non Intersection</td>\n",
       "      <td>Dark, Lighted</td>\n",
       "      <td>City Street</td>\n",
       "      <td>Main/Proper Lane</td>\n",
       "      <td>35</td>\n",
       "      <td>Dry</td>\n",
       "      <td>Center Stripe/Divider</td>\n",
       "      <td>Clear</td>\n",
       "      <td>Not Worn</td>\n",
       "    </tr>\n",
       "    <tr>\n",
       "      <th>3</th>\n",
       "      <td>No</td>\n",
       "      <td>No</td>\n",
       "      <td>False</td>\n",
       "      <td>No Data</td>\n",
       "      <td>No</td>\n",
       "      <td>Non-Incapacitating Injury</td>\n",
       "      <td>310</td>\n",
       "      <td>2</td>\n",
       "      <td>2010</td>\n",
       "      <td>Friday</td>\n",
       "      <td>No Data</td>\n",
       "      <td>Non Intersection</td>\n",
       "      <td>Dark, Lighted</td>\n",
       "      <td>City Street</td>\n",
       "      <td>Main/Proper Lane</td>\n",
       "      <td>35</td>\n",
       "      <td>Dry</td>\n",
       "      <td>Center Stripe/Divider</td>\n",
       "      <td>Clear</td>\n",
       "      <td>Not Worn</td>\n",
       "    </tr>\n",
       "    <tr>\n",
       "      <th>4</th>\n",
       "      <td>No</td>\n",
       "      <td>No</td>\n",
       "      <td>False</td>\n",
       "      <td>22775</td>\n",
       "      <td>No</td>\n",
       "      <td>Non-Incapacitating Injury</td>\n",
       "      <td>2300</td>\n",
       "      <td>1</td>\n",
       "      <td>2010</td>\n",
       "      <td>Monday</td>\n",
       "      <td>State Loop</td>\n",
       "      <td>Intersection Related</td>\n",
       "      <td>Dark, Not Lighted</td>\n",
       "      <td>US &amp; State Highways</td>\n",
       "      <td>Main/Proper Lane</td>\n",
       "      <td>45</td>\n",
       "      <td>Dry</td>\n",
       "      <td>None</td>\n",
       "      <td>Clear</td>\n",
       "      <td>Not Worn</td>\n",
       "    </tr>\n",
       "  </tbody>\n",
       "</table>\n",
       "</div>"
      ],
      "text/plain": [
       "  $1000 Damage to Any One Person's Property Active School Zone Flag  \\\n",
       "0                                        No                      No   \n",
       "1                                        No                      No   \n",
       "2                                        No                      No   \n",
       "3                                        No                      No   \n",
       "4                                        No                      No   \n",
       "\n",
       "   At Intersection Flag Average Daily Traffic Amount Construction Zone Flag  \\\n",
       "0                 False                        15262                     No   \n",
       "1                 False                      No Data                     No   \n",
       "2                 False                      No Data                     No   \n",
       "3                 False                      No Data                     No   \n",
       "4                 False                        22775                     No   \n",
       "\n",
       "              Crash Severity  Crash Time  Crash Total Injury Count  \\\n",
       "0      Incapacitating Injury         239                         1   \n",
       "1  Non-Incapacitating Injury         310                         2   \n",
       "2  Non-Incapacitating Injury         310                         2   \n",
       "3  Non-Incapacitating Injury         310                         2   \n",
       "4  Non-Incapacitating Injury        2300                         1   \n",
       "\n",
       "   Crash Year Day of Week  Highway System  Intersection Related  \\\n",
       "0        2010      Friday  Farm To Market      Non Intersection   \n",
       "1        2010      Friday         No Data      Non Intersection   \n",
       "2        2010      Friday         No Data      Non Intersection   \n",
       "3        2010      Friday         No Data      Non Intersection   \n",
       "4        2010      Monday      State Loop  Intersection Related   \n",
       "\n",
       "     Light Condition           Road Class      Roadway Part  Speed Limit  \\\n",
       "0      Dark, Lighted       Farm To Market  Main/Proper Lane           45   \n",
       "1      Dark, Lighted          City Street  Main/Proper Lane           35   \n",
       "2      Dark, Lighted          City Street  Main/Proper Lane           35   \n",
       "3      Dark, Lighted          City Street  Main/Proper Lane           35   \n",
       "4  Dark, Not Lighted  US & State Highways  Main/Proper Lane           45   \n",
       "\n",
       "  Surface Condition   Traffic Control Type Weather Condition  Person Helmet  \n",
       "0               Dry           Marked Lanes             Clear  Worn, Damaged  \n",
       "1               Dry  Center Stripe/Divider             Clear       Not Worn  \n",
       "2               Dry  Center Stripe/Divider             Clear       Not Worn  \n",
       "3               Dry  Center Stripe/Divider             Clear       Not Worn  \n",
       "4               Dry                   None             Clear       Not Worn  "
      ]
     },
     "execution_count": 17,
     "metadata": {},
     "output_type": "execute_result"
    }
   ],
   "source": [
    "df.head()"
   ]
  },
  {
   "cell_type": "code",
   "execution_count": 18,
   "id": "96039628",
   "metadata": {},
   "outputs": [
    {
     "data": {
      "text/plain": [
       "$1000 Damage to Any One Person's Property    0\n",
       "Active School Zone Flag                      0\n",
       "At Intersection Flag                         0\n",
       "Average Daily Traffic Amount                 0\n",
       "Construction Zone Flag                       0\n",
       "Crash Severity                               0\n",
       "Crash Time                                   0\n",
       "Crash Total Injury Count                     0\n",
       "Crash Year                                   0\n",
       "Day of Week                                  0\n",
       "Highway System                               0\n",
       "Intersection Related                         0\n",
       "Light Condition                              0\n",
       "Road Class                                   0\n",
       "Roadway Part                                 0\n",
       "Speed Limit                                  0\n",
       "Surface Condition                            0\n",
       "Traffic Control Type                         0\n",
       "Weather Condition                            0\n",
       "Person Helmet                                0\n",
       "dtype: int64"
      ]
     },
     "execution_count": 18,
     "metadata": {},
     "output_type": "execute_result"
    }
   ],
   "source": [
    "df.isna().sum()"
   ]
  },
  {
   "cell_type": "code",
   "execution_count": 19,
   "id": "1ed1f07b",
   "metadata": {},
   "outputs": [
    {
     "data": {
      "text/plain": [
       "Index(['$1000 Damage to Any One Person's Property', 'Active School Zone Flag',\n",
       "       'At Intersection Flag', 'Average Daily Traffic Amount',\n",
       "       'Construction Zone Flag', 'Crash Severity', 'Crash Time',\n",
       "       'Crash Total Injury Count', 'Crash Year', 'Day of Week',\n",
       "       'Highway System', 'Intersection Related', 'Light Condition',\n",
       "       'Road Class', 'Roadway Part', 'Speed Limit', 'Surface Condition',\n",
       "       'Traffic Control Type', 'Weather Condition', 'Person Helmet'],\n",
       "      dtype='object')"
      ]
     },
     "execution_count": 19,
     "metadata": {},
     "output_type": "execute_result"
    }
   ],
   "source": [
    "df.columns"
   ]
  },
  {
   "cell_type": "code",
   "execution_count": 20,
   "id": "37955909",
   "metadata": {},
   "outputs": [
    {
     "data": {
      "text/plain": [
       "84"
      ]
     },
     "execution_count": 20,
     "metadata": {},
     "output_type": "execute_result"
    }
   ],
   "source": [
    "df.duplicated().sum()"
   ]
  },
  {
   "cell_type": "markdown",
   "id": "c2c37d5f",
   "metadata": {},
   "source": [
    "# Pick 6 independent variables and explain why you choose those."
   ]
  },
  {
   "cell_type": "markdown",
   "id": "50fb4c51",
   "metadata": {},
   "source": [
    "\"Speed Limit\" - Higher speed limits can increase the severity of accidents involving cyclists, as motorists may have less time to react.\n"
   ]
  },
  {
   "cell_type": "markdown",
   "id": "b1116558",
   "metadata": {},
   "source": [
    "\"Light Condition\" - Poor lighting conditions, such as darkness or dusk, can make it harder for motorists to see cyclists, increasing the risk of accidents.\n"
   ]
  },
  {
   "cell_type": "markdown",
   "id": "b1ac25ed",
   "metadata": {},
   "source": [
    "\"Road Class\" - Certain road classes, such as busy highways, may have higher traffic volumes and higher speeds, making them more dangerous for cyclists."
   ]
  },
  {
   "cell_type": "markdown",
   "id": "52ae6771",
   "metadata": {},
   "source": [
    "\"Weather Condition\" - Inclement weather conditions, such as rain or fog, can make it more difficult for motorists to see cyclists and increase the risk of accidents."
   ]
  },
  {
   "cell_type": "markdown",
   "id": "4de480b6",
   "metadata": {},
   "source": [
    "\"Intersection Related\" - Intersections can be particularly dangerous for cyclists, as they often involve multiple vehicles and complex interactions."
   ]
  },
  {
   "cell_type": "markdown",
   "id": "b80adef6",
   "metadata": {},
   "source": [
    "\"Traffic Control Type\" - The type of traffic control in place, such as stop signs or traffic lights, can influence the likelihood of accidents involving cyclists."
   ]
  },
  {
   "cell_type": "markdown",
   "id": "57dfd542",
   "metadata": {},
   "source": [
    "# Build a Logistic Regression model to predict, Severity (Possibly Injury, Incapacitating Injury, Killed vs. a non severe incident). Talk about which features were important from the model and if the model is accurate."
   ]
  },
  {
   "cell_type": "code",
   "execution_count": 56,
   "id": "8a46c617",
   "metadata": {},
   "outputs": [
    {
     "name": "stdout",
     "output_type": "stream",
     "text": [
      "Accuracy: 0.5963488843813387\n",
      "Confusion matrix:\n",
      " [[  0   0  40   0   0]\n",
      " [  0   0   3   0   0]\n",
      " [  0   0 294   0   1]\n",
      " [  0   0  33   0   0]\n",
      " [  0   0 122   0   0]]\n",
      "                                              feature      coef\n",
      "5                           Road Class_Non Trafficway -0.917072\n",
      "34                              Weather Condition_Fog  0.896911\n",
      "30                    Traffic Control Type_Yield Sign  0.550437\n",
      "32                            Weather Condition_Clear -0.528885\n",
      "2                              Road Class_County Road  0.505135\n",
      "3                           Road Class_Farm To Market  0.497770\n",
      "17                     Traffic Control Type_Crosswalk -0.483835\n",
      "29                  Traffic Control Type_Warning Sign  0.471330\n",
      "33                           Weather Condition_Cloudy -0.439417\n",
      "35     Weather Condition_Other (Explain In Narrative)  0.403942\n",
      "14                              Surface Condition_Wet  0.399143\n",
      "22               Traffic Control Type_No Passing Zone -0.380607\n",
      "19            Traffic Control Type_Flashing Red Light  0.280538\n",
      "25  Traffic Control Type_Other (Explain In Narrative) -0.259681\n",
      "24                       Traffic Control Type_Officer -0.247686\n",
      "10     Surface Condition_Other (Explain In Narrative) -0.217920\n",
      "37                          Weather Condition_Unknown -0.157771\n",
      "27  Traffic Control Type_Signal Light With Red Lig...  0.144235\n",
      "16         Traffic Control Type_Center Stripe/Divider  0.136517\n",
      "28                     Traffic Control Type_Stop Sign -0.135086\n",
      "12                   Surface Condition_Standing Water -0.134138\n",
      "31                Weather Condition_Blowing Sand/Snow -0.116949\n",
      "13                          Surface Condition_Unknown  0.112968\n",
      "9                               Surface Condition_Ice -0.112209\n",
      "4                               Road Class_Interstate -0.099685\n",
      "20         Traffic Control Type_Flashing Yellow Light -0.087343\n",
      "11                  Surface Condition_Sand, Mud, Dirt -0.083316\n",
      "36                             Weather Condition_Rain -0.053349\n",
      "15                     Traffic Control Type_Bike Lane  0.051883\n",
      "8                               Surface Condition_Dry  0.039953\n",
      "26                  Traffic Control Type_Signal Light -0.035825\n",
      "1                              Road Class_City Street  0.026653\n",
      "21                  Traffic Control Type_Marked Lanes -0.011138\n",
      "23                          Traffic Control Type_None  0.010741\n",
      "7                      Road Class_US & State Highways -0.008321\n",
      "0                                         Speed Limit  0.000115\n",
      "18                       Traffic Control Type_Flagman  0.000000\n",
      "6                              Road Class_Other Roads  0.000000\n"
     ]
    }
   ],
   "source": [
    "from sklearn.linear_model import LogisticRegression\n",
    "from sklearn.model_selection import train_test_split\n",
    "from sklearn.metrics import accuracy_score, confusion_matrix\n",
    "\n",
    "# Select the relevant columns as features and the severity column as the target\n",
    "features = [ 'Road Class', 'Speed Limit', 'Surface Condition',\n",
    "            'Traffic Control Type', 'Weather Condition']\n",
    "X = df[features]\n",
    "y = df['Crash Severity']\n",
    "\n",
    "# Encode categorical features as dummy variables using one-hot encoding\n",
    "X = pd.get_dummies(X, columns=['Road Class', 'Surface Condition', 'Traffic Control Type', 'Weather Condition'])\n",
    "\n",
    "# Split the data into training and testing sets\n",
    "X_train, X_test, y_train, y_test = train_test_split(X, y, test_size=0.2, random_state=42)\n",
    "\n",
    "# Create a Logistic Regression model and fit it to the training data\n",
    "model = LogisticRegression(max_iter=10000)\n",
    "model.fit(X_train, y_train)\n",
    "\n",
    "# Make predictions on the test data and calculate accuracy\n",
    "y_pred = model.predict(X_test)\n",
    "accuracy = accuracy_score(y_test, y_pred)\n",
    "print('Accuracy:', accuracy)\n",
    "\n",
    "# Print the confusion matrix to see how well the model did on each class\n",
    "confusion = confusion_matrix(y_test, y_pred)\n",
    "print('Confusion matrix:\\n', confusion)\n",
    "\n",
    "# Print the coefficients of the model to see which features were most important\n",
    "coef_df = pd.DataFrame({'feature': X.columns, 'coef': model.coef_[0]})\n",
    "coef_df = coef_df.reindex(coef_df['coef'].abs().sort_values(ascending=False).index)\n",
    "print(coef_df)\n"
   ]
  },
  {
   "cell_type": "code",
   "execution_count": 23,
   "id": "f4eb0c46",
   "metadata": {},
   "outputs": [
    {
     "data": {
      "text/plain": [
       "array(['Non Intersection', 'Intersection Related', 'Driveway Access',\n",
       "       'Intersection', 'Not Reported'], dtype=object)"
      ]
     },
     "execution_count": 23,
     "metadata": {},
     "output_type": "execute_result"
    }
   ],
   "source": [
    "df['Intersection Related'].unique()"
   ]
  },
  {
   "cell_type": "markdown",
   "id": "958f5eaf",
   "metadata": {},
   "source": [
    "# Build a Random Forest model to predict the type of incident. Compare which metrics are important in this model vs significant in the Logistic Model and how the model compares. Run with minimum trees of 5000"
   ]
  },
  {
   "cell_type": "markdown",
   "id": "64153f20",
   "metadata": {},
   "source": [
    "Bulding a Random Forest model to predict the type of incident"
   ]
  },
  {
   "cell_type": "code",
   "execution_count": 57,
   "id": "b73f1655",
   "metadata": {},
   "outputs": [
    {
     "name": "stdout",
     "output_type": "stream",
     "text": [
      "Accuracy: 0.5821501014198783\n",
      "Precision: 0.47994097979283845\n",
      "Recall: 0.5821501014198783\n",
      "F1 score: 0.4870938245743961\n"
     ]
    },
    {
     "name": "stderr",
     "output_type": "stream",
     "text": [
      "C:\\Users\\Blobe\\anaconda3\\anaconda store\\lib\\site-packages\\sklearn\\metrics\\_classification.py:1318: UndefinedMetricWarning: Precision is ill-defined and being set to 0.0 in labels with no predicted samples. Use `zero_division` parameter to control this behavior.\n",
      "  _warn_prf(average, modifier, msg_start, len(result))\n"
     ]
    }
   ],
   "source": [
    "import numpy as np\n",
    "from sklearn.impute import SimpleImputer\n",
    "\n",
    "# replace 'No Data' values with NaN\n",
    "X.replace('No Data', np.nan, inplace=True)\n",
    "\n",
    "# impute missing values with the mean of each column\n",
    "imputer = SimpleImputer()\n",
    "X_imputed = imputer.fit_transform(X)\n",
    "\n",
    "# split the imputed data into training and testing sets\n",
    "X_train, X_test, y_train, y_test = train_test_split(X_imputed, y, test_size=0.2, random_state=42)\n",
    "\n",
    "# build the random forest model with a minimum of 5000 trees\n",
    "rf = RandomForestClassifier(n_estimators=5000, random_state=42)\n",
    "rf.fit(X_train, y_train)\n",
    "\n",
    "# make predictions on the testing set\n",
    "y_pred = rf.predict(X_test)\n",
    "\n",
    "# evaluate the model using various metrics\n",
    "print(\"Accuracy:\", accuracy_score(y_test, y_pred))\n",
    "print(\"Precision:\", precision_score(y_test, y_pred, average='weighted'))\n",
    "print(\"Recall:\", recall_score(y_test, y_pred, average='weighted'))\n",
    "print(\"F1 score:\", f1_score(y_test, y_pred, average='weighted'))\n"
   ]
  },
  {
   "cell_type": "markdown",
   "id": "c28d8922",
   "metadata": {},
   "source": [
    "# comparing the feature importances of the Random Forest model to the coefficients of the logistic regression model to determine which metrics are important in each model."
   ]
  },
  {
   "cell_type": "code",
   "execution_count": 82,
   "id": "1ac5e147",
   "metadata": {},
   "outputs": [
    {
     "name": "stdout",
     "output_type": "stream",
     "text": [
      "Random Forest F1 scores: [0.47173874 0.48086441 0.45730259 0.46238297 0.43746522]\n",
      "Mean F1 score: 0.46195078484801233\n"
     ]
    }
   ],
   "source": [
    "from sklearn.model_selection import cross_val_score\n",
    "\n",
    "# evaluate the random forest model using cross-validation\n",
    "rf_scores = cross_val_score(rf, X, y, cv=5, scoring='f1_weighted')\n",
    "print(\"Random Forest F1 scores:\", rf_scores)\n",
    "print(\"Mean F1 score:\", np.mean(rf_scores))\n",
    "\n",
    "\n",
    "\n",
    "\n"
   ]
  },
  {
   "cell_type": "markdown",
   "id": "25048553",
   "metadata": {},
   "source": [
    "# Build a Neural Network model to predict the type of incident Discuss the accuracy and some of the challenges that you had."
   ]
  },
  {
   "cell_type": "code",
   "execution_count": 112,
   "id": "2b2b6409",
   "metadata": {},
   "outputs": [
    {
     "name": "stdout",
     "output_type": "stream",
     "text": [
      "$1000 Damage to Any One Person's Property    float64\n",
      "Active School Zone Flag                      float64\n",
      "At Intersection Flag                            bool\n",
      "Average Daily Traffic Amount                 float64\n",
      "Construction Zone Flag                       float64\n",
      "Crash Severity                               float64\n",
      "Crash Time                                     int64\n",
      "Crash Total Injury Count                       int64\n",
      "Crash Year                                     int64\n",
      "Day of Week                                  float64\n",
      "Highway System                               float64\n",
      "Intersection Related                         float64\n",
      "Light Condition                              float64\n",
      "Road Class                                   float64\n",
      "Roadway Part                                 float64\n",
      "Speed Limit                                    int64\n",
      "Surface Condition                            float64\n",
      "Traffic Control Type                         float64\n",
      "Weather Condition                            float64\n",
      "Person Helmet                                float64\n",
      "dtype: object\n"
     ]
    }
   ],
   "source": [
    "# Convert all columns to numeric type\n",
    "df = df.apply(pd.to_numeric, errors='coerce')\n",
    "\n",
    "# Replace NaN values with a default value (e.g., 0)\n",
    "df = df.fillna(0)\n",
    "\n",
    "# Check the data types of the columns\n",
    "print(df.dtypes)\n"
   ]
  },
  {
   "cell_type": "code",
   "execution_count": 114,
   "id": "014864ad",
   "metadata": {},
   "outputs": [
    {
     "name": "stdout",
     "output_type": "stream",
     "text": [
      "Epoch 1/10\n",
      "50/50 [==============================] - 55s 93ms/step - loss: 0.4114 - accuracy: 0.8985 - val_loss: 0.0623 - val_accuracy: 1.0000\n",
      "Epoch 2/10\n",
      "50/50 [==============================] - 3s 68ms/step - loss: 0.0152 - accuracy: 1.0000 - val_loss: 0.0029 - val_accuracy: 1.0000\n",
      "Epoch 3/10\n",
      "50/50 [==============================] - 3s 69ms/step - loss: 0.0018 - accuracy: 1.0000 - val_loss: 0.0012 - val_accuracy: 1.0000\n",
      "Epoch 4/10\n",
      "50/50 [==============================] - 4s 75ms/step - loss: 8.5566e-04 - accuracy: 1.0000 - val_loss: 6.3050e-04 - val_accuracy: 1.0000\n",
      "Epoch 5/10\n",
      "50/50 [==============================] - 4s 77ms/step - loss: 5.0103e-04 - accuracy: 1.0000 - val_loss: 3.9608e-04 - val_accuracy: 1.0000\n",
      "Epoch 6/10\n",
      "50/50 [==============================] - 4s 77ms/step - loss: 3.2778e-04 - accuracy: 1.0000 - val_loss: 2.7020e-04 - val_accuracy: 1.0000\n",
      "Epoch 7/10\n",
      "50/50 [==============================] - 4s 74ms/step - loss: 2.3029e-04 - accuracy: 1.0000 - val_loss: 1.9626e-04 - val_accuracy: 1.0000\n",
      "Epoch 8/10\n",
      "50/50 [==============================] - 4s 77ms/step - loss: 1.7040e-04 - accuracy: 1.0000 - val_loss: 1.4856e-04 - val_accuracy: 1.0000\n",
      "Epoch 9/10\n",
      "50/50 [==============================] - 4s 74ms/step - loss: 1.3095e-04 - accuracy: 1.0000 - val_loss: 1.1592e-04 - val_accuracy: 1.0000\n",
      "Epoch 10/10\n",
      "50/50 [==============================] - 4s 73ms/step - loss: 1.0352e-04 - accuracy: 1.0000 - val_loss: 9.2982e-05 - val_accuracy: 1.0000\n",
      "16/16 [==============================] - 1s 40ms/step - loss: 9.2103e-05 - accuracy: 1.0000\n",
      "Test accuracy: 1.0\n"
     ]
    }
   ],
   "source": [
    "import pandas as pd\n",
    "import numpy as np\n",
    "from sklearn.compose import ColumnTransformer\n",
    "from sklearn.pipeline import Pipeline\n",
    "from sklearn.impute import SimpleImputer\n",
    "from sklearn.preprocessing import StandardScaler, OneHotEncoder, LabelEncoder\n",
    "from sklearn.model_selection import train_test_split\n",
    "from tensorflow.keras.models import Sequential\n",
    "from tensorflow.keras.layers import Dense\n",
    "\n",
    "# read in data\n",
    "#df = pd.read_csv('bike_crash (1) (1).csv')\n",
    "\n",
    "# drop any rows with missing values\n",
    "df = df.dropna()\n",
    "\n",
    "# define features and target variable\n",
    "numeric_features = ['$1000 Damage to Any One Person\\'s Property', 'Average Daily Traffic Amount',\n",
    "                    'Crash Time', 'Speed Limit']\n",
    "categorical_features = ['Active School Zone Flag', 'At Intersection Flag', 'Construction Zone Flag',\n",
    "                        'Day of Week', 'Highway System', 'Intersection Related', 'Light Condition',\n",
    "                        'Road Class', 'Roadway Part', 'Surface Condition', 'Traffic Control Type',\n",
    "                        'Weather Condition', 'Person Helmet']\n",
    "target = 'Crash Severity'\n",
    "\n",
    "# split data into training and testing sets\n",
    "X_train, X_test, y_train, y_test = train_test_split(df.drop(target, axis=1), df[target], test_size=0.2, random_state=42)\n",
    "\n",
    "# preprocess data using pipeline\n",
    "numeric_transformer = Pipeline(steps=[\n",
    "    ('imputer', SimpleImputer(strategy='median')),\n",
    "    ('scaler', StandardScaler())\n",
    "])\n",
    "\n",
    "categorical_transformer = Pipeline(steps=[\n",
    "    ('imputer', SimpleImputer(strategy='most_frequent')),\n",
    "    ('onehot', OneHotEncoder(handle_unknown='ignore'))\n",
    "])\n",
    "\n",
    "preprocessor = ColumnTransformer(\n",
    "    transformers=[\n",
    "        ('num', numeric_transformer, numeric_features),\n",
    "        ('cat', categorical_transformer, categorical_features)\n",
    "    ])\n",
    "\n",
    "# fit model using neural network\n",
    "model = Sequential()\n",
    "model.add(Dense(64, activation='relu', input_shape=(preprocessor.fit_transform(X_train).shape[1],)))\n",
    "model.add(Dense(32, activation='relu'))\n",
    "model.add(Dense(16, activation='relu'))\n",
    "model.add(Dense(1, activation='sigmoid'))\n",
    "\n",
    "model.compile(loss='binary_crossentropy', optimizer='adam', metrics=['accuracy'])\n",
    "\n",
    "pipeline = Pipeline(steps=[('preprocessor', preprocessor), ('model', model)])\n",
    "\n",
    "pipeline.fit(X_train, y_train, model__epochs=10, model__batch_size=32, model__validation_split=0.2)\n",
    "\n",
    "# evaluate the model on the test set\n",
    "accuracy = pipeline['model'].evaluate(pipeline['preprocessor'].transform(X_test), y_test)[1]\n",
    "print('Test accuracy:', accuracy)\n",
    "\n"
   ]
  },
  {
   "cell_type": "markdown",
   "id": "c96dda9f",
   "metadata": {},
   "source": [
    "# Challenges encountered while building the neural Network"
   ]
  },
  {
   "cell_type": "markdown",
   "id": "71f232d5",
   "metadata": {},
   "source": [
    "\n",
    "Choosing the right architecture for the model, including the number of layers and the number of neurons in each layer\n",
    "Handling imbalanced classes, where one type of incident is much more common than others\n",
    "Dealing with missing data, which may require imputation or removal of affected samples\n",
    "Preprocessing the data in a way that is suitable for input to the neural network, including scaling and encoding categorical variables"
   ]
  },
  {
   "cell_type": "markdown",
   "id": "3fc2fc80",
   "metadata": {},
   "source": [
    "# Benchmarking"
   ]
  },
  {
   "cell_type": "markdown",
   "id": "9a59176e",
   "metadata": {},
   "source": [
    "Random ForestAccuracy: 0.5821501014198783\n"
   ]
  },
  {
   "cell_type": "markdown",
   "id": "2d3a15cc",
   "metadata": {},
   "source": [
    "Precision: 0.47994097979283845"
   ]
  },
  {
   "cell_type": "markdown",
   "id": "32cfbeba",
   "metadata": {},
   "source": [
    "Recall: 0.5821501014198783"
   ]
  },
  {
   "cell_type": "markdown",
   "id": "ed793730",
   "metadata": {},
   "source": [
    "F1 score: 0.4870938245743961"
   ]
  },
  {
   "cell_type": "markdown",
   "id": "353da9b9",
   "metadata": {},
   "source": [
    "logistic regression Accuracy: 0.5963488843813387"
   ]
  },
  {
   "cell_type": "markdown",
   "id": "98936258",
   "metadata": {},
   "source": [
    "It seems like the logistic regression model has a slightly higher accuracy compared to the first model, which could potentially make it a better choice for the city to use. However, it is important to look at all the benchmarking metrics, not just accuracy.\n",
    "\n",
    "Looking at the precision, recall, and F1 score, the logistic regression model outperforms the first model as well. This suggests that the logistic regression model is better at correctly identifying true positives, while also reducing false positives and false negatives.\n",
    "\n",
    "Based on these findings, I would recommend the logistic regression model as the final model for the city to use. It provides a more accurate and precise prediction, which can help the city identify high-risk areas and implement targeted measures to improve traffic safety."
   ]
  },
  {
   "cell_type": "code",
   "execution_count": null,
   "id": "c8f74d60",
   "metadata": {},
   "outputs": [],
   "source": []
  }
 ],
 "metadata": {
  "kernelspec": {
   "display_name": "Python 3 (ipykernel)",
   "language": "python",
   "name": "python3"
  },
  "language_info": {
   "codemirror_mode": {
    "name": "ipython",
    "version": 3
   },
   "file_extension": ".py",
   "mimetype": "text/x-python",
   "name": "python",
   "nbconvert_exporter": "python",
   "pygments_lexer": "ipython3",
   "version": "3.9.12"
  }
 },
 "nbformat": 4,
 "nbformat_minor": 5
}
